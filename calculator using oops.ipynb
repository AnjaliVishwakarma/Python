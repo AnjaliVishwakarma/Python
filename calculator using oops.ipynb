{
 "cells": [
  {
   "cell_type": "code",
   "execution_count": null,
   "id": "2d621e94",
   "metadata": {},
   "outputs": [
    {
     "name": "stdout",
     "output_type": "stream",
     "text": [
      "press: \n",
      "    '+' for addition\n",
      "    '-' for subtraction \n",
      "    '*' for multiplication \n",
      "    '/' for division\n",
      "    'N or n' for exit\n",
      "    Enter your choice: +\n",
      "Enter First Number: 10\n",
      "Enter second Number: 45\n",
      "Sum is:  55\n"
     ]
    }
   ],
   "source": [
    "# Calculator using oops\n",
    "\n",
    "#BLL\n",
    "\n",
    "class Calculator:\n",
    "    def __init__(self):\n",
    "        self.no1 = 0\n",
    "        self.no2 = 0\n",
    "        self.result = 0\n",
    "        \n",
    "    def add(self):\n",
    "        self.result = self.no1+self.no2\n",
    "    \n",
    "    def sub(self):\n",
    "        self.result = self.no1-self.no2\n",
    "    \n",
    "    def mult(self):\n",
    "        self.result = self.no1*self.no2\n",
    "    \n",
    "    def div(self):\n",
    "        self.result = self.no1/self.no2\n",
    "    \n",
    "        \n",
    "        \n",
    "#PL\n",
    "\n",
    "while(True):\n",
    "    ob=Calculator()  # Here 'ob' is an object of Calculator class \n",
    "    \n",
    "\n",
    "    ch = input('''press: \n",
    "    '+' for addition\n",
    "    '-' for subtraction \n",
    "    '*' for multiplication \n",
    "    '/' for division\n",
    "    'N or n' for exit\n",
    "    Enter your choice: ''')\n",
    "\n",
    "    if ch=='+':\n",
    "        ob.no1= int(input('Enter First Number: '))\n",
    "        ob.no2= int(input('Enter second Number: '))\n",
    "        ob.add()\n",
    "        print('Sum is: ',ob.result)\n",
    "\n",
    "    elif ch=='-':\n",
    "        ob.no1= int(input('Enter First Number: '))\n",
    "        ob.no2= int(input('Enter second Number: '))\n",
    "        ob.sub()\n",
    "        print('Subtraction is: ',ob.result)\n",
    "\n",
    "    elif ch=='*':\n",
    "        ob.no1= int(input('Enter First Number: '))\n",
    "        ob.no2= int(input('Enter second Number: '))\n",
    "        ob.mult()\n",
    "        print('Multiplication is: ',ob.result)\n",
    "\n",
    "    elif ch=='/':\n",
    "        ob.no1= int(input('Enter First Number: '))\n",
    "        ob.no2= int(input('Enter second Number: '))\n",
    "        ob.div()\n",
    "        print('Division is: ',ob.result)\n",
    "    elif ch=='N' or ch=='n':\n",
    "        print('Thankyou for using our Calculaor ^_^ ')\n",
    "        break\n",
    "        \n",
    "    else: \n",
    "        print('Wrong choice Try again *_*')"
   ]
  },
  {
   "cell_type": "code",
   "execution_count": null,
   "id": "8751ccb6",
   "metadata": {},
   "outputs": [],
   "source": []
  }
 ],
 "metadata": {
  "kernelspec": {
   "display_name": "Python 3",
   "language": "python",
   "name": "python3"
  },
  "language_info": {
   "codemirror_mode": {
    "name": "ipython",
    "version": 3
   },
   "file_extension": ".py",
   "mimetype": "text/x-python",
   "name": "python",
   "nbconvert_exporter": "python",
   "pygments_lexer": "ipython3",
   "version": "3.8.8"
  }
 },
 "nbformat": 4,
 "nbformat_minor": 5
}
